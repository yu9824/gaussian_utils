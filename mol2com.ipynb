{
 "cells": [
  {
   "cell_type": "markdown",
   "metadata": {},
   "source": [
    "### モジュールのインポート"
   ]
  },
  {
   "cell_type": "code",
   "execution_count": 1,
   "metadata": {},
   "outputs": [],
   "source": [
    "from typing import Optional\n",
    "from datetime import datetime\n",
    "import re\n",
    "\n",
    "from rdkit import Chem\n",
    "from rdkit.Chem import AllChem\n",
    "\n",
    "# molオブジェクトから座標を取り出す時にnumpyが必要\n"
   ]
  },
  {
   "cell_type": "markdown",
   "metadata": {},
   "source": [
    "### 適当な構造を作成する\n"
   ]
  },
  {
   "cell_type": "code",
   "execution_count": 2,
   "metadata": {},
   "outputs": [
    {
     "data": {
      "text/plain": [
       "0"
      ]
     },
     "execution_count": 2,
     "metadata": {},
     "output_type": "execute_result"
    }
   ],
   "source": [
    "smiles = \"N(=N/c1ccccc1)/c2ccccc2\"\n",
    "mol = Chem.MolFromSmiles(smiles)\n",
    "mol = Chem.AddHs(mol)\n",
    "AllChem.EmbedMolecule(mol)\n",
    "AllChem.MMFFOptimizeMolecule(mol)\n"
   ]
  },
  {
   "cell_type": "code",
   "execution_count": 3,
   "metadata": {},
   "outputs": [
    {
     "name": "stdout",
     "output_type": "stream",
     "text": [
      "\n",
      "%chk=temp\n",
      "#p b3lyp/6-31g* scf=tight\n",
      "\n",
      "20231125214858848703\n",
      "\n",
      "0 1\n",
      "\n"
     ]
    }
   ],
   "source": [
    "def generate_header(name: Optional[str] = None) -> str:\n",
    "    header = \"\"\"\n",
    "    %chk=temp\n",
    "    #p b3lyp/6-31g* scf=tight\n",
    "\n",
    "    {0}\n",
    "\n",
    "    0 1\n",
    "    \"\"\".format(\n",
    "        datetime.now().strftime(r\"%Y%m%d%H%M%S%f\") if name is None else name\n",
    "    )\n",
    "    # 行頭の空白を削除\n",
    "    return re.sub(r\"^[ \\t]+\", \"\", header, flags=re.MULTILINE)\n",
    "\n",
    "\n",
    "print(generate_header())\n"
   ]
  },
  {
   "cell_type": "markdown",
   "metadata": {},
   "source": [
    "### 原子座標の取得および原子数の確認"
   ]
  },
  {
   "cell_type": "code",
   "execution_count": 4,
   "metadata": {},
   "outputs": [],
   "source": [
    "positions = mol.GetConformer().GetPositions()\n",
    "# 原子数が一致していることを念の為確認\n",
    "assert len(positions) == mol.GetNumAtoms()\n"
   ]
  },
  {
   "cell_type": "markdown",
   "metadata": {},
   "source": [
    "### 書き出し"
   ]
  },
  {
   "cell_type": "code",
   "execution_count": 5,
   "metadata": {},
   "outputs": [],
   "source": [
    "with open(\"azobenzene.com\", mode=\"w\", encoding=\"utf-8\", newline=\"\\n\") as f:\n",
    "    f.write(generate_header(\"azobenzene\"))\n",
    "    for atom, pos in zip(mol.GetAtoms(), positions):\n",
    "        f.write(\n",
    "            \"{0:2} {1:15.10f} {2:15.10f} {3:15.10f}\\n\".format(\n",
    "                atom.GetSymbol(), *pos\n",
    "            )\n",
    "        )\n"
   ]
  },
  {
   "cell_type": "markdown",
   "metadata": {},
   "source": [
    "### 内容の確認"
   ]
  },
  {
   "cell_type": "code",
   "execution_count": 6,
   "metadata": {},
   "outputs": [
    {
     "name": "stdout",
     "output_type": "stream",
     "text": [
      "\n",
      "%chk=temp\n",
      "#p b3lyp/6-31g* scf=tight\n",
      "\n",
      "azobenzene\n",
      "\n",
      "0 1\n",
      "N     0.5009397251    0.3638732315    2.1946118779\n",
      "N    -0.7474561820    0.4985977182    2.1031839678\n",
      "C    -1.3962541014    0.3541701860    0.8616028897\n",
      "C    -1.9065698280   -0.8885460433    0.4681310463\n",
      "C    -2.5875394962   -1.0253919859   -0.7432235446\n",
      "C    -2.7804857145    0.0864935789   -1.5619942663\n",
      "C    -2.3018061667    1.3350286167   -1.1671204406\n",
      "C    -1.6212368222    1.4685538375    0.0448292788\n",
      "C     1.2762085542    0.0658219023    1.0573136049\n",
      "C     1.8478146355    1.0942842423    0.2989474652\n",
      "C     2.6518344581    0.8006121231   -0.8042910685\n",
      "C     2.9064011952   -0.5270333738   -1.1455466908\n",
      "C     2.3660057960   -1.5598242470   -0.3805496837\n",
      "C     1.5623892707   -1.2628305018    0.7220936425\n",
      "H    -1.7670342771   -1.7528606281    1.1115874342\n",
      "H    -2.9701719472   -1.9969699905   -1.0443522975\n",
      "H    -3.3113121156   -0.0185848999   -2.5049221691\n",
      "H    -2.4615429129    2.2047224131   -1.7989137813\n",
      "H    -1.2590098730    2.4439101616    0.3579061124\n",
      "H     1.6596194140    2.1290266180    0.5717847109\n",
      "H     3.0817981102    1.6067049194   -1.3928450272\n",
      "H     3.5329828762   -0.7569628807   -2.0037197810\n",
      "H     2.5730031300   -2.5950203190   -0.6385598176\n",
      "H     1.1514222715   -2.0677746786    1.3251828476\n",
      "\n"
     ]
    }
   ],
   "source": [
    "with open(\"azobenzene.com\", mode=\"r\", encoding=\"utf-8\") as f:\n",
    "    print(f.read())\n"
   ]
  },
  {
   "cell_type": "markdown",
   "metadata": {},
   "source": [
    "### 参考\n",
    "\n",
    "#### 形式の参考\n",
    "\n",
    "- [Gaussian Input File データベース - Chem-Station](https://www.chem-station.com/blog/2023/01/gaussian-input-file.html)\n",
    "\n",
    "#### プログラムの参考\n",
    "\n",
    "- [SMILESからGaussianのインプットファイルを作成する](https://zenn.dev/hodakam/articles/09462ab3abb22e)"
   ]
  }
 ],
 "metadata": {
  "kernelspec": {
   "display_name": "py3dmol",
   "language": "python",
   "name": "python3"
  },
  "language_info": {
   "codemirror_mode": {
    "name": "ipython",
    "version": 3
   },
   "file_extension": ".py",
   "mimetype": "text/x-python",
   "name": "python",
   "nbconvert_exporter": "python",
   "pygments_lexer": "ipython3",
   "version": "3.9.13"
  }
 },
 "nbformat": 4,
 "nbformat_minor": 2
}
